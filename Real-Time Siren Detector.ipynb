{
 "cells": [
  {
   "cell_type": "code",
   "execution_count": null,
   "metadata": {},
   "outputs": [],
   "source": [
    "# Written by Gabriel Sarch\n",
    "# gabrielsarch@gmail.com\n",
    "#\n",
    "# Last edited: 4/20/2020"
   ]
  },
  {
   "cell_type": "code",
   "execution_count": 1,
   "metadata": {},
   "outputs": [],
   "source": [
    "# Real-time audio detector "
   ]
  },
  {
   "cell_type": "code",
   "execution_count": 6,
   "metadata": {},
   "outputs": [],
   "source": [
    "# Function for processing data chunks\n",
    "# 1) Normalize between -1 and 1\n",
    "# 2) Bandpass 50-5000 Hz \n",
    "# 3) Extract MFCCs (40 of them)\n",
    "\n",
    "from scipy import signal\n",
    "import librosa\n",
    "import numpy as np\n",
    "\n",
    "RATE = 22050\n",
    "sos = signal.butter(5, [50, 5000], 'bandpass', fs=RATE, output='sos')\n",
    "\n",
    "def get_mfccs(audio): \n",
    "   \n",
    "    try:\n",
    "        audio = 2*((audio-min(audio))/(max(audio)-min(audio)))-1\n",
    "\n",
    "        #Filter\n",
    "        audio = signal.sosfilt(sos, audio) \n",
    "\n",
    "        mfccs = librosa.feature.mfcc(y=audio, sr=RATE, n_mfcc=40)\n",
    "\n",
    "    except Exception as e:\n",
    "            print(\"Error extracting features\")\n",
    "            return None\n",
    "     \n",
    "    return mfccs"
   ]
  },
  {
   "cell_type": "code",
   "execution_count": 7,
   "metadata": {},
   "outputs": [
    {
     "name": "stdout",
     "output_type": "stream",
     "text": [
      "{'index': 0, 'structVersion': 2, 'name': 'Microsoft Sound Mapper - Input', 'hostApi': 0, 'maxInputChannels': 2, 'maxOutputChannels': 0, 'defaultLowInputLatency': 0.09, 'defaultLowOutputLatency': 0.09, 'defaultHighInputLatency': 0.18, 'defaultHighOutputLatency': 0.18, 'defaultSampleRate': 44100.0}\n",
      "{'index': 1, 'structVersion': 2, 'name': 'Microphone (Realtek High Defini', 'hostApi': 0, 'maxInputChannels': 2, 'maxOutputChannels': 0, 'defaultLowInputLatency': 0.09, 'defaultLowOutputLatency': 0.09, 'defaultHighInputLatency': 0.18, 'defaultHighOutputLatency': 0.18, 'defaultSampleRate': 44100.0}\n",
      "{'index': 2, 'structVersion': 2, 'name': 'Microsoft Sound Mapper - Output', 'hostApi': 0, 'maxInputChannels': 0, 'maxOutputChannels': 2, 'defaultLowInputLatency': 0.09, 'defaultLowOutputLatency': 0.09, 'defaultHighInputLatency': 0.18, 'defaultHighOutputLatency': 0.18, 'defaultSampleRate': 44100.0}\n",
      "{'index': 3, 'structVersion': 2, 'name': 'Speakers (Realtek High Definiti', 'hostApi': 0, 'maxInputChannels': 0, 'maxOutputChannels': 2, 'defaultLowInputLatency': 0.09, 'defaultLowOutputLatency': 0.09, 'defaultHighInputLatency': 0.18, 'defaultHighOutputLatency': 0.18, 'defaultSampleRate': 44100.0}\n",
      "{'index': 4, 'structVersion': 2, 'name': 'VS248 (Intel(R) Display Audio)', 'hostApi': 0, 'maxInputChannels': 0, 'maxOutputChannels': 2, 'defaultLowInputLatency': 0.09, 'defaultLowOutputLatency': 0.09, 'defaultHighInputLatency': 0.18, 'defaultHighOutputLatency': 0.18, 'defaultSampleRate': 44100.0}\n"
     ]
    }
   ],
   "source": [
    "# Initialize pyaudio settings\n",
    "\n",
    "import pyaudio\n",
    "#import struct\n",
    "#import time\n",
    "#import librosa.display\n",
    "\n",
    "RATE = 22050\n",
    "CHUNK = RATE*3\n",
    "FORMAT = pyaudio.paInt16\n",
    "CHANNELS = 1\n",
    "\n",
    "# Identify which input is the mic - use to change input_device_index below\n",
    "p = pyaudio.PyAudio()\n",
    "\n",
    "chosen_device_index = -1\n",
    "for x in range(0,p.get_device_count()):\n",
    "    info = p.get_device_info_by_index(x)\n",
    "    print(p.get_device_info_by_index(x))\n",
    "  #  if info[\"name\"] == \"Microphone (Realtek High Defini\":\n",
    "  #      chosen_device_index = info[\"index\"]\n",
    "  #      print(\"Chosen index: \", chosen_device_index)"
   ]
  },
  {
   "cell_type": "code",
   "execution_count": 8,
   "metadata": {},
   "outputs": [],
   "source": [
    "# load model\n",
    "\n",
    "from keras.models import load_model\n",
    "\n",
    "modelSave = 'C:/Users/Gabe/Documents/SeniorDesign/CNNModels/siren_detector.h5' # location of the trained model\n",
    "model = load_model(modelSave)"
   ]
  },
  {
   "cell_type": "code",
   "execution_count": 9,
   "metadata": {},
   "outputs": [
    {
     "name": "stdout",
     "output_type": "stream",
     "text": [
      "siren:  0.99995244 not_siren:  4.7510395e-05\n",
      "No siren. Carry on.\n",
      "siren:  0.9999832 not_siren:  1.6856056e-05\n",
      "No siren. Carry on.\n",
      "siren:  0.9999825 not_siren:  1.7528198e-05\n",
      "No siren. Carry on.\n",
      "siren:  0.99998975 not_siren:  1.0228796e-05\n",
      "No siren. Carry on.\n",
      "siren:  0.99999535 not_siren:  4.5939933e-06\n",
      "No siren. Carry on.\n",
      "siren:  0.99997973 not_siren:  2.0312254e-05\n",
      "No siren. Carry on.\n",
      "siren:  0.9999459 not_siren:  5.4138043e-05\n",
      "No siren. Carry on.\n",
      "siren:  0.13987076 not_siren:  0.86012924\n",
      "No siren. Carry on.\n",
      "siren:  0.9999646 not_siren:  3.541767e-05\n",
      "No siren. Carry on.\n",
      "siren:  0.99998474 not_siren:  1.523163e-05\n",
      "No siren. Carry on.\n",
      "siren:  0.9385345 not_siren:  0.061465506\n",
      "No siren. Carry on.\n",
      "siren:  0.9931117 not_siren:  0.006888238\n",
      "No siren. Carry on.\n",
      "siren:  0.9909644 not_siren:  0.009035534\n",
      "No siren. Carry on.\n"
     ]
    },
    {
     "ename": "KeyboardInterrupt",
     "evalue": "",
     "output_type": "error",
     "traceback": [
      "\u001b[1;31m---------------------------------------------------------------------------\u001b[0m",
      "\u001b[1;31mKeyboardInterrupt\u001b[0m                         Traceback (most recent call last)",
      "\u001b[1;32m<ipython-input-9-d50874082e05>\u001b[0m in \u001b[0;36m<module>\u001b[1;34m()\u001b[0m\n\u001b[0;32m     28\u001b[0m \u001b[1;32mwhile\u001b[0m \u001b[1;32mTrue\u001b[0m\u001b[1;33m:\u001b[0m\u001b[1;33m\u001b[0m\u001b[0m\n\u001b[0;32m     29\u001b[0m \u001b[1;31m#for i in range(0,5):\u001b[0m\u001b[1;33m\u001b[0m\u001b[1;33m\u001b[0m\u001b[0m\n\u001b[1;32m---> 30\u001b[1;33m     \u001b[0mdata\u001b[0m \u001b[1;33m=\u001b[0m \u001b[0mstream\u001b[0m\u001b[1;33m.\u001b[0m\u001b[0mread\u001b[0m\u001b[1;33m(\u001b[0m\u001b[0mCHUNK\u001b[0m\u001b[1;33m)\u001b[0m\u001b[1;33m\u001b[0m\u001b[0m\n\u001b[0m\u001b[0;32m     31\u001b[0m     \u001b[0mdata_int\u001b[0m \u001b[1;33m=\u001b[0m \u001b[0mnp\u001b[0m\u001b[1;33m.\u001b[0m\u001b[0mfrombuffer\u001b[0m\u001b[1;33m(\u001b[0m\u001b[0mdata\u001b[0m\u001b[1;33m,\u001b[0m \u001b[0mdtype\u001b[0m\u001b[1;33m=\u001b[0m\u001b[0mnp\u001b[0m\u001b[1;33m.\u001b[0m\u001b[0mint16\u001b[0m\u001b[1;33m)\u001b[0m\u001b[1;33m\u001b[0m\u001b[0m\n\u001b[0;32m     32\u001b[0m \u001b[1;33m\u001b[0m\u001b[0m\n",
      "\u001b[1;32mC:\\ProgramData\\Anaconda3\\lib\\site-packages\\pyaudio.py\u001b[0m in \u001b[0;36mread\u001b[1;34m(self, num_frames, exception_on_overflow)\u001b[0m\n\u001b[0;32m    606\u001b[0m                           paCanNotReadFromAnOutputOnlyStream)\n\u001b[0;32m    607\u001b[0m \u001b[1;33m\u001b[0m\u001b[0m\n\u001b[1;32m--> 608\u001b[1;33m         \u001b[1;32mreturn\u001b[0m \u001b[0mpa\u001b[0m\u001b[1;33m.\u001b[0m\u001b[0mread_stream\u001b[0m\u001b[1;33m(\u001b[0m\u001b[0mself\u001b[0m\u001b[1;33m.\u001b[0m\u001b[0m_stream\u001b[0m\u001b[1;33m,\u001b[0m \u001b[0mnum_frames\u001b[0m\u001b[1;33m,\u001b[0m \u001b[0mexception_on_overflow\u001b[0m\u001b[1;33m)\u001b[0m\u001b[1;33m\u001b[0m\u001b[0m\n\u001b[0m\u001b[0;32m    609\u001b[0m \u001b[1;33m\u001b[0m\u001b[0m\n\u001b[0;32m    610\u001b[0m     \u001b[1;32mdef\u001b[0m \u001b[0mget_read_available\u001b[0m\u001b[1;33m(\u001b[0m\u001b[0mself\u001b[0m\u001b[1;33m)\u001b[0m\u001b[1;33m:\u001b[0m\u001b[1;33m\u001b[0m\u001b[0m\n",
      "\u001b[1;31mKeyboardInterrupt\u001b[0m: "
     ]
    }
   ],
   "source": [
    "# Real time detection\n",
    "# 1) reads in 3-second audio chunk (defined by CHUNK)\n",
    "# 2) gets MFCCs\n",
    "# 3) runs MFCCs through keras model to predict probabilities \n",
    "# 4) Determines whether siren was present based on threshold\n",
    "p = pyaudio.PyAudio()\n",
    "stream = p.open(\n",
    "    format=FORMAT,\n",
    "    channels=CHANNELS,\n",
    "    rate=RATE,\n",
    "    input_device_index=1, # CHANGE\n",
    "    input=True,\n",
    "    output=True,\n",
    "    frames_per_buffer=CHUNK\n",
    " )\n",
    "\n",
    "\n",
    "import sounddevice as sd\n",
    "\n",
    "num_rows = 40\n",
    "num_columns = 130\n",
    "num_channels = 1\n",
    "\n",
    "#alldata = [] # Used to play back audio for testing \n",
    "\n",
    "prob_thresh = 0.98 # probability threshold for detecting the siren\n",
    "\n",
    "while True:\n",
    "#for i in range(0,5):\n",
    "    data = stream.read(CHUNK)\n",
    "    data_int = np.frombuffer(data, dtype=np.int16)\n",
    "    \n",
    "    #alldata = np.append(alldata, data_int) \n",
    "    \n",
    "    data_int = get_mfccs(data_int)\n",
    "\n",
    "    prediction_feature = data_int.reshape(1, num_rows, num_columns, num_channels)\n",
    "\n",
    "    predicted_vector = model.predict_classes(prediction_feature)\n",
    "    predicted_proba_vector = model.predict_proba(prediction_feature)\n",
    "\n",
    "    #print(predicted_vector)\n",
    "    \n",
    "    print(\"not_siren: \", predicted_proba_vector[0][0], \"siren: \", predicted_proba_vector[0][1])\n",
    "    \n",
    "    if predicted_proba_vector[0][1] > prob_thresh:\n",
    "        print('SIREN!!!')\n",
    "    else:\n",
    "        print('No siren. Carry on.')\n"
   ]
  },
  {
   "cell_type": "code",
   "execution_count": null,
   "metadata": {},
   "outputs": [],
   "source": []
  },
  {
   "cell_type": "code",
   "execution_count": null,
   "metadata": {},
   "outputs": [],
   "source": []
  },
  {
   "cell_type": "code",
   "execution_count": null,
   "metadata": {},
   "outputs": [],
   "source": []
  },
  {
   "cell_type": "code",
   "execution_count": null,
   "metadata": {},
   "outputs": [],
   "source": []
  },
  {
   "cell_type": "code",
   "execution_count": 12,
   "metadata": {},
   "outputs": [],
   "source": [
    "# play back recorded audio for testing purposes\n",
    "\n",
    "import sounddevice as sd\n",
    "sd.play(alldata, RATE)\n",
    "\n"
   ]
  }
 ],
 "metadata": {
  "kernelspec": {
   "display_name": "Python 3",
   "language": "python",
   "name": "python3"
  },
  "language_info": {
   "codemirror_mode": {
    "name": "ipython",
    "version": 3
   },
   "file_extension": ".py",
   "mimetype": "text/x-python",
   "name": "python",
   "nbconvert_exporter": "python",
   "pygments_lexer": "ipython3",
   "version": "3.8.19"
  }
 },
 "nbformat": 4,
 "nbformat_minor": 2
}
