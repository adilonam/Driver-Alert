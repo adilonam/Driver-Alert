{
 "cells": [
  {
   "cell_type": "code",
   "execution_count": 1,
   "metadata": {},
   "outputs": [
    {
     "name": "stdout",
     "output_type": "stream",
     "text": [
      "Requirement already satisfied: fastapi in /home/adil/miniconda3/envs/siren/lib/python3.8/site-packages (0.111.0)\n",
      "Requirement already satisfied: uvicorn in /home/adil/miniconda3/envs/siren/lib/python3.8/site-packages (0.30.1)\n",
      "Requirement already satisfied: scipy in /home/adil/miniconda3/envs/siren/lib/python3.8/site-packages (1.10.1)\n",
      "Requirement already satisfied: librosa in /home/adil/miniconda3/envs/siren/lib/python3.8/site-packages (0.10.2.post1)\n",
      "Requirement already satisfied: numpy in /home/adil/miniconda3/envs/siren/lib/python3.8/site-packages (1.24.4)\n",
      "Requirement already satisfied: starlette<0.38.0,>=0.37.2 in /home/adil/miniconda3/envs/siren/lib/python3.8/site-packages (from fastapi) (0.37.2)\n",
      "Requirement already satisfied: pydantic!=1.8,!=1.8.1,!=2.0.0,!=2.0.1,!=2.1.0,<3.0.0,>=1.7.4 in /home/adil/miniconda3/envs/siren/lib/python3.8/site-packages (from fastapi) (2.7.3)\n",
      "Requirement already satisfied: typing-extensions>=4.8.0 in /home/adil/miniconda3/envs/siren/lib/python3.8/site-packages (from fastapi) (4.12.1)\n",
      "Requirement already satisfied: fastapi-cli>=0.0.2 in /home/adil/miniconda3/envs/siren/lib/python3.8/site-packages (from fastapi) (0.0.4)\n",
      "Requirement already satisfied: httpx>=0.23.0 in /home/adil/miniconda3/envs/siren/lib/python3.8/site-packages (from fastapi) (0.27.0)\n",
      "Requirement already satisfied: jinja2>=2.11.2 in /home/adil/miniconda3/envs/siren/lib/python3.8/site-packages (from fastapi) (3.1.4)\n",
      "Requirement already satisfied: python-multipart>=0.0.7 in /home/adil/miniconda3/envs/siren/lib/python3.8/site-packages (from fastapi) (0.0.9)\n",
      "Requirement already satisfied: ujson!=4.0.2,!=4.1.0,!=4.2.0,!=4.3.0,!=5.0.0,!=5.1.0,>=4.0.1 in /home/adil/miniconda3/envs/siren/lib/python3.8/site-packages (from fastapi) (5.10.0)\n",
      "Requirement already satisfied: orjson>=3.2.1 in /home/adil/miniconda3/envs/siren/lib/python3.8/site-packages (from fastapi) (3.10.3)\n",
      "Requirement already satisfied: email_validator>=2.0.0 in /home/adil/miniconda3/envs/siren/lib/python3.8/site-packages (from fastapi) (2.1.1)\n",
      "Requirement already satisfied: click>=7.0 in /home/adil/miniconda3/envs/siren/lib/python3.8/site-packages (from uvicorn) (8.1.7)\n",
      "Requirement already satisfied: h11>=0.8 in /home/adil/miniconda3/envs/siren/lib/python3.8/site-packages (from uvicorn) (0.14.0)\n",
      "Requirement already satisfied: audioread>=2.1.9 in /home/adil/miniconda3/envs/siren/lib/python3.8/site-packages (from librosa) (3.0.1)\n",
      "Requirement already satisfied: scikit-learn>=0.20.0 in /home/adil/miniconda3/envs/siren/lib/python3.8/site-packages (from librosa) (1.3.2)\n",
      "Requirement already satisfied: joblib>=0.14 in /home/adil/miniconda3/envs/siren/lib/python3.8/site-packages (from librosa) (1.4.2)\n",
      "Requirement already satisfied: decorator>=4.3.0 in /home/adil/miniconda3/envs/siren/lib/python3.8/site-packages (from librosa) (5.1.1)\n",
      "Requirement already satisfied: numba>=0.51.0 in /home/adil/miniconda3/envs/siren/lib/python3.8/site-packages (from librosa) (0.58.1)\n",
      "Requirement already satisfied: soundfile>=0.12.1 in /home/adil/miniconda3/envs/siren/lib/python3.8/site-packages (from librosa) (0.12.1)\n",
      "Requirement already satisfied: pooch>=1.1 in /home/adil/miniconda3/envs/siren/lib/python3.8/site-packages (from librosa) (1.8.2)\n",
      "Requirement already satisfied: soxr>=0.3.2 in /home/adil/miniconda3/envs/siren/lib/python3.8/site-packages (from librosa) (0.3.7)\n",
      "Requirement already satisfied: lazy-loader>=0.1 in /home/adil/miniconda3/envs/siren/lib/python3.8/site-packages (from librosa) (0.4)\n",
      "Requirement already satisfied: msgpack>=1.0 in /home/adil/miniconda3/envs/siren/lib/python3.8/site-packages (from librosa) (1.0.8)\n",
      "Requirement already satisfied: dnspython>=2.0.0 in /home/adil/miniconda3/envs/siren/lib/python3.8/site-packages (from email_validator>=2.0.0->fastapi) (2.6.1)\n",
      "Requirement already satisfied: idna>=2.0.0 in /home/adil/miniconda3/envs/siren/lib/python3.8/site-packages (from email_validator>=2.0.0->fastapi) (3.7)\n",
      "Requirement already satisfied: typer>=0.12.3 in /home/adil/miniconda3/envs/siren/lib/python3.8/site-packages (from fastapi-cli>=0.0.2->fastapi) (0.12.3)\n",
      "Requirement already satisfied: anyio in /home/adil/miniconda3/envs/siren/lib/python3.8/site-packages (from httpx>=0.23.0->fastapi) (4.4.0)\n",
      "Requirement already satisfied: certifi in /home/adil/miniconda3/envs/siren/lib/python3.8/site-packages (from httpx>=0.23.0->fastapi) (2024.6.2)\n",
      "Requirement already satisfied: httpcore==1.* in /home/adil/miniconda3/envs/siren/lib/python3.8/site-packages (from httpx>=0.23.0->fastapi) (1.0.5)\n",
      "Requirement already satisfied: sniffio in /home/adil/miniconda3/envs/siren/lib/python3.8/site-packages (from httpx>=0.23.0->fastapi) (1.3.1)\n",
      "Requirement already satisfied: MarkupSafe>=2.0 in /home/adil/miniconda3/envs/siren/lib/python3.8/site-packages (from jinja2>=2.11.2->fastapi) (2.1.5)\n",
      "Requirement already satisfied: packaging in /home/adil/miniconda3/envs/siren/lib/python3.8/site-packages (from lazy-loader>=0.1->librosa) (24.0)\n",
      "Requirement already satisfied: llvmlite<0.42,>=0.41.0dev0 in /home/adil/miniconda3/envs/siren/lib/python3.8/site-packages (from numba>=0.51.0->librosa) (0.41.1)\n",
      "Requirement already satisfied: importlib-metadata in /home/adil/miniconda3/envs/siren/lib/python3.8/site-packages (from numba>=0.51.0->librosa) (7.1.0)\n",
      "Requirement already satisfied: platformdirs>=2.5.0 in /home/adil/.local/lib/python3.8/site-packages (from pooch>=1.1->librosa) (3.5.1)\n",
      "Requirement already satisfied: requests>=2.19.0 in /home/adil/miniconda3/envs/siren/lib/python3.8/site-packages (from pooch>=1.1->librosa) (2.32.3)\n",
      "Requirement already satisfied: annotated-types>=0.4.0 in /home/adil/miniconda3/envs/siren/lib/python3.8/site-packages (from pydantic!=1.8,!=1.8.1,!=2.0.0,!=2.0.1,!=2.1.0,<3.0.0,>=1.7.4->fastapi) (0.7.0)\n",
      "Requirement already satisfied: pydantic-core==2.18.4 in /home/adil/miniconda3/envs/siren/lib/python3.8/site-packages (from pydantic!=1.8,!=1.8.1,!=2.0.0,!=2.0.1,!=2.1.0,<3.0.0,>=1.7.4->fastapi) (2.18.4)\n",
      "Requirement already satisfied: threadpoolctl>=2.0.0 in /home/adil/miniconda3/envs/siren/lib/python3.8/site-packages (from scikit-learn>=0.20.0->librosa) (3.5.0)\n",
      "Requirement already satisfied: cffi>=1.0 in /home/adil/miniconda3/envs/siren/lib/python3.8/site-packages (from soundfile>=0.12.1->librosa) (1.16.0)\n",
      "Requirement already satisfied: httptools>=0.5.0 in /home/adil/miniconda3/envs/siren/lib/python3.8/site-packages (from uvicorn) (0.6.1)\n",
      "Requirement already satisfied: python-dotenv>=0.13 in /home/adil/miniconda3/envs/siren/lib/python3.8/site-packages (from uvicorn) (1.0.1)\n",
      "Requirement already satisfied: pyyaml>=5.1 in /home/adil/miniconda3/envs/siren/lib/python3.8/site-packages (from uvicorn) (6.0.1)\n",
      "Requirement already satisfied: uvloop!=0.15.0,!=0.15.1,>=0.14.0 in /home/adil/miniconda3/envs/siren/lib/python3.8/site-packages (from uvicorn) (0.19.0)\n",
      "Requirement already satisfied: watchfiles>=0.13 in /home/adil/miniconda3/envs/siren/lib/python3.8/site-packages (from uvicorn) (0.22.0)\n",
      "Requirement already satisfied: websockets>=10.4 in /home/adil/miniconda3/envs/siren/lib/python3.8/site-packages (from uvicorn) (12.0)\n",
      "Requirement already satisfied: exceptiongroup>=1.0.2 in /home/adil/miniconda3/envs/siren/lib/python3.8/site-packages (from anyio->httpx>=0.23.0->fastapi) (1.2.1)\n",
      "Requirement already satisfied: pycparser in /home/adil/miniconda3/envs/siren/lib/python3.8/site-packages (from cffi>=1.0->soundfile>=0.12.1->librosa) (2.22)\n",
      "Requirement already satisfied: charset-normalizer<4,>=2 in /home/adil/miniconda3/envs/siren/lib/python3.8/site-packages (from requests>=2.19.0->pooch>=1.1->librosa) (3.3.2)\n",
      "Requirement already satisfied: urllib3<3,>=1.21.1 in /home/adil/miniconda3/envs/siren/lib/python3.8/site-packages (from requests>=2.19.0->pooch>=1.1->librosa) (2.2.1)\n",
      "Requirement already satisfied: shellingham>=1.3.0 in /home/adil/miniconda3/envs/siren/lib/python3.8/site-packages (from typer>=0.12.3->fastapi-cli>=0.0.2->fastapi) (1.5.4)\n",
      "Requirement already satisfied: rich>=10.11.0 in /home/adil/miniconda3/envs/siren/lib/python3.8/site-packages (from typer>=0.12.3->fastapi-cli>=0.0.2->fastapi) (13.7.1)\n",
      "Requirement already satisfied: zipp>=0.5 in /home/adil/miniconda3/envs/siren/lib/python3.8/site-packages (from importlib-metadata->numba>=0.51.0->librosa) (3.17.0)\n",
      "Requirement already satisfied: markdown-it-py>=2.2.0 in /home/adil/miniconda3/envs/siren/lib/python3.8/site-packages (from rich>=10.11.0->typer>=0.12.3->fastapi-cli>=0.0.2->fastapi) (3.0.0)\n",
      "Requirement already satisfied: pygments<3.0.0,>=2.13.0 in /home/adil/miniconda3/envs/siren/lib/python3.8/site-packages (from rich>=10.11.0->typer>=0.12.3->fastapi-cli>=0.0.2->fastapi) (2.18.0)\n",
      "Requirement already satisfied: mdurl~=0.1 in /home/adil/miniconda3/envs/siren/lib/python3.8/site-packages (from markdown-it-py>=2.2.0->rich>=10.11.0->typer>=0.12.3->fastapi-cli>=0.0.2->fastapi) (0.1.2)\n",
      "\n",
      "\u001b[1m[\u001b[0m\u001b[34;49mnotice\u001b[0m\u001b[1;39;49m]\u001b[0m\u001b[39;49m A new release of pip is available: \u001b[0m\u001b[31;49m23.1.2\u001b[0m\u001b[39;49m -> \u001b[0m\u001b[32;49m24.0\u001b[0m\n",
      "\u001b[1m[\u001b[0m\u001b[34;49mnotice\u001b[0m\u001b[1;39;49m]\u001b[0m\u001b[39;49m To update, run: \u001b[0m\u001b[32;49mpip install --upgrade pip\u001b[0m\n",
      "Note: you may need to restart the kernel to use updated packages.\n"
     ]
    }
   ],
   "source": [
    "%pip install fastapi uvicorn scipy librosa numpy\n",
    "\n"
   ]
  },
  {
   "cell_type": "code",
   "execution_count": 2,
   "metadata": {},
   "outputs": [],
   "source": [
    "# Function for processing data chunks\n",
    "# 1) Normalize between -1 and 1\n",
    "# 2) Bandpass 50-5000 Hz \n",
    "# 3) Extract MFCCs (40 of them)\n",
    "\n",
    "from scipy import signal\n",
    "import librosa\n",
    "import numpy as np\n",
    "\n",
    "RATE = 22050\n",
    "sos = signal.butter(5, [50, 5000], 'bandpass', fs=RATE, output='sos')\n",
    "\n",
    "def get_mfccs(audio): \n",
    "   \n",
    "    try:\n",
    "        audio = 2*((audio-min(audio))/(max(audio)-min(audio)))-1\n",
    "\n",
    "        #Filter\n",
    "        audio = signal.sosfilt(sos, audio) \n",
    "\n",
    "        mfccs = librosa.feature.mfcc(y=audio, sr=RATE, n_mfcc=40)\n",
    "\n",
    "    except Exception as e:\n",
    "            print(\"Error extracting features\")\n",
    "            return None\n",
    "     \n",
    "    return mfccs"
   ]
  },
  {
   "cell_type": "code",
   "execution_count": 3,
   "metadata": {},
   "outputs": [
    {
     "name": "stderr",
     "output_type": "stream",
     "text": [
      "INFO:     Started server process [31674]\n",
      "INFO:     Waiting for application startup.\n",
      "INFO:     Application startup complete.\n",
      "INFO:     Uvicorn running on http://0.0.0.0:8000 (Press CTRL+C to quit)\n"
     ]
    }
   ],
   "source": [
    "from fastapi import FastAPI, File, UploadFile\n",
    "from scipy import signal\n",
    "import librosa\n",
    "import numpy as np\n",
    "import io\n",
    "import soundfile as sf\n",
    "import nest_asyncio\n",
    "import uvicorn\n",
    "from fastapi.responses import JSONResponse\n",
    "import asyncio\n",
    "\n",
    "# Initialize nest_asyncio to allow running FastAPI within a Jupyter notebook\n",
    "nest_asyncio.apply()\n",
    "\n",
    "# Create the FastAPI app\n",
    "app = FastAPI()\n",
    "\n",
    "# Define the endpoint to process the audio file\n",
    "@app.post(\"/process-audio/\")\n",
    "async def process_audio(file: UploadFile = File(...)):\n",
    "    # Read the uploaded file\n",
    "    audio_data, sample_rate = sf.read(io.BytesIO(await file.read()), dtype='float32')\n",
    "\n",
    "    # Your processing code here (using scipy and librosa)\n",
    "    # For example, let's compute the short-time Fourier transform (STFT)\n",
    "    stft = librosa.stft(audio_data)\n",
    "    \n",
    "    # Convert the result to a more convenient format for demonstration purposes\n",
    "    result = np.abs(stft).tolist()\n",
    "\n",
    "    return JSONResponse(content={\"stft\": result})\n",
    "\n",
    "# Run the app\n",
    "def run_app():\n",
    "    config = uvicorn.Config(app, host=\"0.0.0.0\", port=8000)\n",
    "    server = uvicorn.Server(config)\n",
    "\n",
    "    loop = asyncio.get_event_loop()\n",
    "    loop.run_until_complete(server.serve())\n",
    "\n",
    "import threading\n",
    "thread = threading.Thread(target=run_app)\n",
    "thread.start()\n",
    "\n",
    "\n",
    "# run_app()\n"
   ]
  },
  {
   "cell_type": "code",
   "execution_count": 4,
   "metadata": {},
   "outputs": [
    {
     "name": "stdout",
     "output_type": "stream",
     "text": [
      "Serving at port 8001\n"
     ]
    },
    {
     "name": "stderr",
     "output_type": "stream",
     "text": [
      "127.0.0.1 - - [07/Jun/2024 12:49:37] \"GET /index.html HTTP/1.1\" 200 -\n",
      "127.0.0.1 - - [07/Jun/2024 12:49:38] code 404, message File not found\n",
      "127.0.0.1 - - [07/Jun/2024 12:49:38] \"GET /favicon.ico HTTP/1.1\" 404 -\n",
      "127.0.0.1 - - [07/Jun/2024 12:49:48] \"GET /index.html HTTP/1.1\" 304 -\n"
     ]
    }
   ],
   "source": [
    "import http.server\n",
    "import socketserver\n",
    "import threading\n",
    "\n",
    "PORT = 8001\n",
    "\n",
    "Handler = http.server.SimpleHTTPRequestHandler\n",
    "\n",
    "httpd = socketserver.TCPServer((\"\", PORT), Handler)\n",
    "\n",
    "print(f\"Serving at port {PORT}\")\n",
    "\n",
    "threading.Thread(target=httpd.serve_forever).start()\n"
   ]
  },
  {
   "cell_type": "code",
   "execution_count": null,
   "metadata": {},
   "outputs": [],
   "source": []
  }
 ],
 "metadata": {
  "kernelspec": {
   "display_name": "siren",
   "language": "python",
   "name": "python3"
  },
  "language_info": {
   "codemirror_mode": {
    "name": "ipython",
    "version": 3
   },
   "file_extension": ".py",
   "mimetype": "text/x-python",
   "name": "python",
   "nbconvert_exporter": "python",
   "pygments_lexer": "ipython3",
   "version": "3.8.19"
  }
 },
 "nbformat": 4,
 "nbformat_minor": 2
}
